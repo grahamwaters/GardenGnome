{
 "cells": [
  {
   "cell_type": "code",
   "execution_count": 2,
   "source": [
    "width = 10\n",
    "height = 10\n",
    "import random\n",
    "from random import choice\n",
    "\n",
    "# populate the matrix\n",
    "'''\n",
    "    map = \n",
    "    ..........\n",
    "    .#####.##.\n",
    "    .#...#..#.\n",
    "    .#..b####.\n",
    "    .##.##..b.\n",
    "    ......b...\n",
    "\n",
    "'''"
   ],
   "outputs": [
    {
     "output_type": "execute_result",
     "data": {
      "text/plain": [
       "'\\n    map = \\n    ..........\\n    .#####.##.\\n    .#...#..#.\\n    .#..b####.\\n    .##.##..b.\\n    ......b...\\n\\n'"
      ]
     },
     "metadata": {},
     "execution_count": 2
    }
   ],
   "metadata": {}
  },
  {
   "cell_type": "code",
   "execution_count": 7,
   "source": [
    "terraintypes = ['.','.','.','.','#','b','b','b','b']"
   ],
   "outputs": [],
   "metadata": {}
  },
  {
   "cell_type": "code",
   "execution_count": 8,
   "source": [
    "for col in range(width):\n",
    "    # each column\n",
    "    for row in range(height):\n",
    "        # each row\n",
    "        this_tile = random.choice(terraintypes)\n",
    "        print(this_tile,end='')\n",
    "    print('')\n",
    "\n"
   ],
   "outputs": [
    {
     "output_type": "stream",
     "name": "stdout",
     "text": [
      "..b.b.bb..\n",
      "##b..b#b..\n",
      "bb.b..b..b\n",
      "#b..b.....\n",
      "b.bb..b#b.\n",
      "bbb#bb..#.\n",
      "..b....#b.\n",
      ".........b\n",
      ".b#.bb....\n",
      "bb.bbb.#..\n"
     ]
    }
   ],
   "metadata": {}
  }
 ],
 "metadata": {
  "orig_nbformat": 4,
  "language_info": {
   "name": "python",
   "version": "3.10.2",
   "mimetype": "text/x-python",
   "codemirror_mode": {
    "name": "ipython",
    "version": 3
   },
   "pygments_lexer": "ipython3",
   "nbconvert_exporter": "python",
   "file_extension": ".py"
  },
  "kernelspec": {
   "name": "python3",
   "display_name": "Python 3.10.2 64-bit"
  },
  "interpreter": {
   "hash": "98590ff4fe04c8543246b2a01debd3de3c5ca9b666f43f1fa87d5110c692004c"
  }
 },
 "nbformat": 4,
 "nbformat_minor": 2
}